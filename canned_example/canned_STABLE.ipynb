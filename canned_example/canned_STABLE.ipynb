{
 "cells": [
  {
   "cell_type": "markdown",
   "metadata": {},
   "source": [
    "# Canned Example: sign(x)\n",
    "This notebook defines our canned example which defines several labeling functions that model the sign function. (See Overleaf document for full definition of this example.)"
   ]
  },
  {
   "cell_type": "code",
   "execution_count": 37,
   "metadata": {},
   "outputs": [],
   "source": [
    "import numpy as np\n",
    "from snorkel.labeling import labeling_function, LFApplier, LFAnalysis\n",
    "from snorkel.labeling.model.label_model import LabelModel"
   ]
  },
  {
   "cell_type": "code",
   "execution_count": 38,
   "metadata": {},
   "outputs": [],
   "source": [
    "# Parameters for the analysis\n",
    "N_LFS = 50\n",
    "N_DPS = 10000\n",
    "\n",
    "SEED_RNG = True\n",
    "SEED = 12345"
   ]
  },
  {
   "cell_type": "code",
   "execution_count": 39,
   "metadata": {},
   "outputs": [],
   "source": [
    "# Defining labels for sake of clarity\n",
    "ABSTAIN = -1\n",
    "NEGATIVE = 0\n",
    "POSITIVE = 1"
   ]
  },
  {
   "cell_type": "code",
   "execution_count": 40,
   "metadata": {},
   "outputs": [],
   "source": [
    "# Seed numpy.random for reproducible results\n",
    "if SEED_RNG:\n",
    "    np.random.seed(SEED)"
   ]
  },
  {
   "cell_type": "markdown",
   "metadata": {},
   "source": [
    "## Define the Goal Model"
   ]
  },
  {
   "cell_type": "code",
   "execution_count": 41,
   "metadata": {},
   "outputs": [],
   "source": [
    "def f_star(x):\n",
    "    return 1 if x == 0 else np.sign(x)"
   ]
  },
  {
   "cell_type": "markdown",
   "metadata": {},
   "source": [
    "## Define the Dataset"
   ]
  },
  {
   "cell_type": "code",
   "execution_count": 42,
   "metadata": {},
   "outputs": [],
   "source": [
    "X_data = np.random.uniform(-1, 1, N_DPS)\n",
    "\n",
    "f_star_vectorized = np.vectorize(f_star)\n",
    "Y_data = f_star_vectorized(X_data)"
   ]
  },
  {
   "cell_type": "markdown",
   "metadata": {},
   "source": [
    "## Define Labeling Functions"
   ]
  },
  {
   "cell_type": "code",
   "execution_count": 43,
   "metadata": {},
   "outputs": [],
   "source": [
    "def f(p_f, p_A, x):    \n",
    "    # Draw from Bernoulli distribution\n",
    "    z_f = np.random.binomial(1, p_f, 1)[0]\n",
    "    z_A = np.random.binomial(1, p_A, 1)[0]\n",
    "    \n",
    "    x = int( (f_star(x) * z_f - f_star(x) * (1 - z_f)) * (1 - z_A) )\n",
    "    if x == 1:\n",
    "        return POSITIVE\n",
    "    elif x == -1:\n",
    "        return NEGATIVE\n",
    "    else:\n",
    "        return ABSTAIN"
   ]
  },
  {
   "cell_type": "code",
   "execution_count": 44,
   "metadata": {},
   "outputs": [],
   "source": [
    "# Generate several labeling functions for different values of p_f and p_A\n",
    "lfs = []\n",
    "for i in range(N_LFS):\n",
    "    p_f = np.random.rand(1)[0]\n",
    "    p_A = np.random.rand(1)[0]\n",
    "    \n",
    "    @labeling_function(name=\"LF{}({:.4f},{:.4f})\".format(i, p_f, p_A))\n",
    "    def lf(x):\n",
    "        return f(p_f, p_A, x)\n",
    "    \n",
    "    lfs.append(lf)"
   ]
  },
  {
   "cell_type": "markdown",
   "metadata": {},
   "source": [
    "## Apply Labeling Functions to the Data"
   ]
  },
  {
   "cell_type": "code",
   "execution_count": 45,
   "metadata": {},
   "outputs": [
    {
     "output_type": "stream",
     "name": "stderr",
     "text": [
      "10000it [00:10, 984.63it/s]\n"
     ]
    }
   ],
   "source": [
    "applier = LFApplier(lfs)\n",
    "L_data = applier.apply(X_data, progress_bar=True)"
   ]
  },
  {
   "cell_type": "code",
   "execution_count": 46,
   "metadata": {},
   "outputs": [
    {
     "output_type": "execute_result",
     "data": {
      "text/plain": [
       "                      j Polarity  Coverage  ...  Correct  Incorrect  Emp. Acc.\n",
       "LF0(0.6227,0.0852)    0   [0, 1]    0.3991  ...     1642        394   0.411426\n",
       "LF1(0.1630,0.5568)    1   [0, 1]    0.4060  ...     1654        399   0.407389\n",
       "LF2(0.8033,0.8255)    2   [0, 1]    0.3970  ...     1602        417   0.403526\n",
       "LF3(0.1417,0.3059)    3   [0, 1]    0.3951  ...     1579        390   0.399646\n",
       "LF4(0.7347,0.8167)    4   [0, 1]    0.3970  ...     1653        374   0.416373\n",
       "LF5(0.1439,0.2943)    5   [0, 1]    0.4002  ...     1624        379   0.405797\n",
       "LF6(0.1452,0.4308)    6   [0, 1]    0.4042  ...     1615        407   0.399555\n",
       "LF7(0.2259,0.4020)    7   [0, 1]    0.3971  ...     1605        406   0.404180\n",
       "LF8(0.2170,0.6369)    8   [0, 1]    0.3996  ...     1581        392   0.395646\n",
       "LF9(0.5933,0.5767)    9   [0, 1]    0.3997  ...     1634        403   0.408807\n",
       "LF10(0.6035,0.2694)  10   [0, 1]    0.4016  ...     1596        393   0.397410\n",
       "LF11(0.9151,0.0213)  11   [0, 1]    0.4007  ...     1618        395   0.403793\n",
       "LF12(0.3212,0.5622)  12   [0, 1]    0.4024  ...     1620        433   0.402584\n",
       "LF13(0.7982,0.0919)  13   [0, 1]    0.3975  ...     1586        423   0.398994\n",
       "LF14(0.2637,0.6921)  14   [0, 1]    0.3929  ...     1598        409   0.406719\n",
       "LF15(0.1605,0.9450)  15   [0, 1]    0.3915  ...     1559        428   0.398212\n",
       "LF16(0.3136,0.5585)  16   [0, 1]    0.4023  ...     1642        385   0.408153\n",
       "LF17(0.2946,0.1949)  17   [0, 1]    0.4018  ...     1600        412   0.398208\n",
       "LF18(0.4280,0.0322)  18   [0, 1]    0.4037  ...     1607        421   0.398068\n",
       "LF19(0.9468,0.8803)  19   [0, 1]    0.4030  ...     1589        425   0.394293\n",
       "LF20(0.5461,0.5025)  20   [0, 1]    0.4104  ...     1657        409   0.403752\n",
       "LF21(0.7016,0.0862)  21   [0, 1]    0.4006  ...     1605        378   0.400649\n",
       "LF22(0.0575,0.4813)  22   [0, 1]    0.3979  ...     1630        387   0.409651\n",
       "LF23(0.6108,0.1634)  23   [0, 1]    0.3989  ...     1594        386   0.399599\n",
       "LF24(0.2644,0.0407)  24   [0, 1]    0.3978  ...     1601        362   0.402464\n",
       "LF25(0.7158,0.6415)  25   [0, 1]    0.3922  ...     1541        414   0.392912\n",
       "LF26(0.7449,0.5793)  26   [0, 1]    0.4024  ...     1640        381   0.407555\n",
       "LF27(0.3272,0.1795)  27   [0, 1]    0.3970  ...     1584        410   0.398992\n",
       "LF28(0.6029,0.8624)  28   [0, 1]    0.4019  ...     1587        419   0.394874\n",
       "LF29(0.8647,0.5066)  29   [0, 1]    0.4050  ...     1602        403   0.395556\n",
       "LF30(0.0771,0.9181)  30   [0, 1]    0.3975  ...     1616        405   0.406541\n",
       "LF31(0.2247,0.9457)  31   [0, 1]    0.4020  ...     1643        395   0.408706\n",
       "LF32(0.8159,0.9412)  32   [0, 1]    0.4018  ...     1625        425   0.404430\n",
       "LF33(0.0034,0.4535)  33   [0, 1]    0.3993  ...     1597        440   0.399950\n",
       "LF34(0.7543,0.6760)  34   [0, 1]    0.3976  ...     1577        405   0.396630\n",
       "LF35(0.5859,0.9416)  35   [0, 1]    0.3917  ...     1556        436   0.397243\n",
       "LF36(0.9232,0.6170)  36   [0, 1]    0.3952  ...     1572        402   0.397773\n",
       "LF37(0.2515,0.1160)  37   [0, 1]    0.4099  ...     1588        437   0.387412\n",
       "LF38(0.9221,0.3410)  38   [0, 1]    0.4031  ...     1637        375   0.406103\n",
       "LF39(0.4061,0.9594)  39   [0, 1]    0.3972  ...     1611        390   0.405589\n",
       "LF40(0.4419,0.2716)  40   [0, 1]    0.3889  ...     1579        359   0.406017\n",
       "LF41(0.1959,0.3511)  41   [0, 1]    0.3922  ...     1572        396   0.400816\n",
       "LF42(0.7026,0.2567)  42   [0, 1]    0.4010  ...     1614        398   0.402494\n",
       "LF43(0.2772,0.2955)  43   [0, 1]    0.4009  ...     1581        401   0.394363\n",
       "LF44(0.4463,0.6711)  44   [0, 1]    0.4052  ...     1652        381   0.407700\n",
       "LF45(0.2387,0.1354)  45   [0, 1]    0.3953  ...     1572        413   0.397673\n",
       "LF46(0.7120,0.9355)  46   [0, 1]    0.3906  ...     1596        382   0.408602\n",
       "LF47(0.2454,0.7507)  47   [0, 1]    0.3957  ...     1613        400   0.407632\n",
       "LF48(0.6971,0.6518)  48   [0, 1]    0.3942  ...     1582        394   0.401319\n",
       "LF49(0.8011,0.6012)  49   [0, 1]    0.3921  ...     1604        371   0.409079\n",
       "\n",
       "[50 rows x 8 columns]"
      ],
      "text/html": "<div>\n<style scoped>\n    .dataframe tbody tr th:only-of-type {\n        vertical-align: middle;\n    }\n\n    .dataframe tbody tr th {\n        vertical-align: top;\n    }\n\n    .dataframe thead th {\n        text-align: right;\n    }\n</style>\n<table border=\"1\" class=\"dataframe\">\n  <thead>\n    <tr style=\"text-align: right;\">\n      <th></th>\n      <th>j</th>\n      <th>Polarity</th>\n      <th>Coverage</th>\n      <th>Overlaps</th>\n      <th>Conflicts</th>\n      <th>Correct</th>\n      <th>Incorrect</th>\n      <th>Emp. Acc.</th>\n    </tr>\n  </thead>\n  <tbody>\n    <tr>\n      <th>LF0(0.6227,0.0852)</th>\n      <td>0</td>\n      <td>[0, 1]</td>\n      <td>0.3991</td>\n      <td>0.3991</td>\n      <td>0.3930</td>\n      <td>1642</td>\n      <td>394</td>\n      <td>0.411426</td>\n    </tr>\n    <tr>\n      <th>LF1(0.1630,0.5568)</th>\n      <td>1</td>\n      <td>[0, 1]</td>\n      <td>0.4060</td>\n      <td>0.4060</td>\n      <td>0.4003</td>\n      <td>1654</td>\n      <td>399</td>\n      <td>0.407389</td>\n    </tr>\n    <tr>\n      <th>LF2(0.8033,0.8255)</th>\n      <td>2</td>\n      <td>[0, 1]</td>\n      <td>0.3970</td>\n      <td>0.3970</td>\n      <td>0.3899</td>\n      <td>1602</td>\n      <td>417</td>\n      <td>0.403526</td>\n    </tr>\n    <tr>\n      <th>LF3(0.1417,0.3059)</th>\n      <td>3</td>\n      <td>[0, 1]</td>\n      <td>0.3951</td>\n      <td>0.3951</td>\n      <td>0.3899</td>\n      <td>1579</td>\n      <td>390</td>\n      <td>0.399646</td>\n    </tr>\n    <tr>\n      <th>LF4(0.7347,0.8167)</th>\n      <td>4</td>\n      <td>[0, 1]</td>\n      <td>0.3970</td>\n      <td>0.3970</td>\n      <td>0.3904</td>\n      <td>1653</td>\n      <td>374</td>\n      <td>0.416373</td>\n    </tr>\n    <tr>\n      <th>LF5(0.1439,0.2943)</th>\n      <td>5</td>\n      <td>[0, 1]</td>\n      <td>0.4002</td>\n      <td>0.4002</td>\n      <td>0.3939</td>\n      <td>1624</td>\n      <td>379</td>\n      <td>0.405797</td>\n    </tr>\n    <tr>\n      <th>LF6(0.1452,0.4308)</th>\n      <td>6</td>\n      <td>[0, 1]</td>\n      <td>0.4042</td>\n      <td>0.4042</td>\n      <td>0.3987</td>\n      <td>1615</td>\n      <td>407</td>\n      <td>0.399555</td>\n    </tr>\n    <tr>\n      <th>LF7(0.2259,0.4020)</th>\n      <td>7</td>\n      <td>[0, 1]</td>\n      <td>0.3971</td>\n      <td>0.3971</td>\n      <td>0.3915</td>\n      <td>1605</td>\n      <td>406</td>\n      <td>0.404180</td>\n    </tr>\n    <tr>\n      <th>LF8(0.2170,0.6369)</th>\n      <td>8</td>\n      <td>[0, 1]</td>\n      <td>0.3996</td>\n      <td>0.3996</td>\n      <td>0.3936</td>\n      <td>1581</td>\n      <td>392</td>\n      <td>0.395646</td>\n    </tr>\n    <tr>\n      <th>LF9(0.5933,0.5767)</th>\n      <td>9</td>\n      <td>[0, 1]</td>\n      <td>0.3997</td>\n      <td>0.3997</td>\n      <td>0.3937</td>\n      <td>1634</td>\n      <td>403</td>\n      <td>0.408807</td>\n    </tr>\n    <tr>\n      <th>LF10(0.6035,0.2694)</th>\n      <td>10</td>\n      <td>[0, 1]</td>\n      <td>0.4016</td>\n      <td>0.4016</td>\n      <td>0.3958</td>\n      <td>1596</td>\n      <td>393</td>\n      <td>0.397410</td>\n    </tr>\n    <tr>\n      <th>LF11(0.9151,0.0213)</th>\n      <td>11</td>\n      <td>[0, 1]</td>\n      <td>0.4007</td>\n      <td>0.4007</td>\n      <td>0.3952</td>\n      <td>1618</td>\n      <td>395</td>\n      <td>0.403793</td>\n    </tr>\n    <tr>\n      <th>LF12(0.3212,0.5622)</th>\n      <td>12</td>\n      <td>[0, 1]</td>\n      <td>0.4024</td>\n      <td>0.4024</td>\n      <td>0.3965</td>\n      <td>1620</td>\n      <td>433</td>\n      <td>0.402584</td>\n    </tr>\n    <tr>\n      <th>LF13(0.7982,0.0919)</th>\n      <td>13</td>\n      <td>[0, 1]</td>\n      <td>0.3975</td>\n      <td>0.3975</td>\n      <td>0.3920</td>\n      <td>1586</td>\n      <td>423</td>\n      <td>0.398994</td>\n    </tr>\n    <tr>\n      <th>LF14(0.2637,0.6921)</th>\n      <td>14</td>\n      <td>[0, 1]</td>\n      <td>0.3929</td>\n      <td>0.3929</td>\n      <td>0.3868</td>\n      <td>1598</td>\n      <td>409</td>\n      <td>0.406719</td>\n    </tr>\n    <tr>\n      <th>LF15(0.1605,0.9450)</th>\n      <td>15</td>\n      <td>[0, 1]</td>\n      <td>0.3915</td>\n      <td>0.3915</td>\n      <td>0.3857</td>\n      <td>1559</td>\n      <td>428</td>\n      <td>0.398212</td>\n    </tr>\n    <tr>\n      <th>LF16(0.3136,0.5585)</th>\n      <td>16</td>\n      <td>[0, 1]</td>\n      <td>0.4023</td>\n      <td>0.4023</td>\n      <td>0.3962</td>\n      <td>1642</td>\n      <td>385</td>\n      <td>0.408153</td>\n    </tr>\n    <tr>\n      <th>LF17(0.2946,0.1949)</th>\n      <td>17</td>\n      <td>[0, 1]</td>\n      <td>0.4018</td>\n      <td>0.4018</td>\n      <td>0.3957</td>\n      <td>1600</td>\n      <td>412</td>\n      <td>0.398208</td>\n    </tr>\n    <tr>\n      <th>LF18(0.4280,0.0322)</th>\n      <td>18</td>\n      <td>[0, 1]</td>\n      <td>0.4037</td>\n      <td>0.4037</td>\n      <td>0.3972</td>\n      <td>1607</td>\n      <td>421</td>\n      <td>0.398068</td>\n    </tr>\n    <tr>\n      <th>LF19(0.9468,0.8803)</th>\n      <td>19</td>\n      <td>[0, 1]</td>\n      <td>0.4030</td>\n      <td>0.4030</td>\n      <td>0.3967</td>\n      <td>1589</td>\n      <td>425</td>\n      <td>0.394293</td>\n    </tr>\n    <tr>\n      <th>LF20(0.5461,0.5025)</th>\n      <td>20</td>\n      <td>[0, 1]</td>\n      <td>0.4104</td>\n      <td>0.4104</td>\n      <td>0.4043</td>\n      <td>1657</td>\n      <td>409</td>\n      <td>0.403752</td>\n    </tr>\n    <tr>\n      <th>LF21(0.7016,0.0862)</th>\n      <td>21</td>\n      <td>[0, 1]</td>\n      <td>0.4006</td>\n      <td>0.4006</td>\n      <td>0.3949</td>\n      <td>1605</td>\n      <td>378</td>\n      <td>0.400649</td>\n    </tr>\n    <tr>\n      <th>LF22(0.0575,0.4813)</th>\n      <td>22</td>\n      <td>[0, 1]</td>\n      <td>0.3979</td>\n      <td>0.3979</td>\n      <td>0.3918</td>\n      <td>1630</td>\n      <td>387</td>\n      <td>0.409651</td>\n    </tr>\n    <tr>\n      <th>LF23(0.6108,0.1634)</th>\n      <td>23</td>\n      <td>[0, 1]</td>\n      <td>0.3989</td>\n      <td>0.3989</td>\n      <td>0.3928</td>\n      <td>1594</td>\n      <td>386</td>\n      <td>0.399599</td>\n    </tr>\n    <tr>\n      <th>LF24(0.2644,0.0407)</th>\n      <td>24</td>\n      <td>[0, 1]</td>\n      <td>0.3978</td>\n      <td>0.3978</td>\n      <td>0.3924</td>\n      <td>1601</td>\n      <td>362</td>\n      <td>0.402464</td>\n    </tr>\n    <tr>\n      <th>LF25(0.7158,0.6415)</th>\n      <td>25</td>\n      <td>[0, 1]</td>\n      <td>0.3922</td>\n      <td>0.3922</td>\n      <td>0.3857</td>\n      <td>1541</td>\n      <td>414</td>\n      <td>0.392912</td>\n    </tr>\n    <tr>\n      <th>LF26(0.7449,0.5793)</th>\n      <td>26</td>\n      <td>[0, 1]</td>\n      <td>0.4024</td>\n      <td>0.4024</td>\n      <td>0.3959</td>\n      <td>1640</td>\n      <td>381</td>\n      <td>0.407555</td>\n    </tr>\n    <tr>\n      <th>LF27(0.3272,0.1795)</th>\n      <td>27</td>\n      <td>[0, 1]</td>\n      <td>0.3970</td>\n      <td>0.3970</td>\n      <td>0.3916</td>\n      <td>1584</td>\n      <td>410</td>\n      <td>0.398992</td>\n    </tr>\n    <tr>\n      <th>LF28(0.6029,0.8624)</th>\n      <td>28</td>\n      <td>[0, 1]</td>\n      <td>0.4019</td>\n      <td>0.4019</td>\n      <td>0.3959</td>\n      <td>1587</td>\n      <td>419</td>\n      <td>0.394874</td>\n    </tr>\n    <tr>\n      <th>LF29(0.8647,0.5066)</th>\n      <td>29</td>\n      <td>[0, 1]</td>\n      <td>0.4050</td>\n      <td>0.4050</td>\n      <td>0.3996</td>\n      <td>1602</td>\n      <td>403</td>\n      <td>0.395556</td>\n    </tr>\n    <tr>\n      <th>LF30(0.0771,0.9181)</th>\n      <td>30</td>\n      <td>[0, 1]</td>\n      <td>0.3975</td>\n      <td>0.3975</td>\n      <td>0.3915</td>\n      <td>1616</td>\n      <td>405</td>\n      <td>0.406541</td>\n    </tr>\n    <tr>\n      <th>LF31(0.2247,0.9457)</th>\n      <td>31</td>\n      <td>[0, 1]</td>\n      <td>0.4020</td>\n      <td>0.4020</td>\n      <td>0.3961</td>\n      <td>1643</td>\n      <td>395</td>\n      <td>0.408706</td>\n    </tr>\n    <tr>\n      <th>LF32(0.8159,0.9412)</th>\n      <td>32</td>\n      <td>[0, 1]</td>\n      <td>0.4018</td>\n      <td>0.4018</td>\n      <td>0.3959</td>\n      <td>1625</td>\n      <td>425</td>\n      <td>0.404430</td>\n    </tr>\n    <tr>\n      <th>LF33(0.0034,0.4535)</th>\n      <td>33</td>\n      <td>[0, 1]</td>\n      <td>0.3993</td>\n      <td>0.3993</td>\n      <td>0.3933</td>\n      <td>1597</td>\n      <td>440</td>\n      <td>0.399950</td>\n    </tr>\n    <tr>\n      <th>LF34(0.7543,0.6760)</th>\n      <td>34</td>\n      <td>[0, 1]</td>\n      <td>0.3976</td>\n      <td>0.3976</td>\n      <td>0.3905</td>\n      <td>1577</td>\n      <td>405</td>\n      <td>0.396630</td>\n    </tr>\n    <tr>\n      <th>LF35(0.5859,0.9416)</th>\n      <td>35</td>\n      <td>[0, 1]</td>\n      <td>0.3917</td>\n      <td>0.3917</td>\n      <td>0.3864</td>\n      <td>1556</td>\n      <td>436</td>\n      <td>0.397243</td>\n    </tr>\n    <tr>\n      <th>LF36(0.9232,0.6170)</th>\n      <td>36</td>\n      <td>[0, 1]</td>\n      <td>0.3952</td>\n      <td>0.3952</td>\n      <td>0.3891</td>\n      <td>1572</td>\n      <td>402</td>\n      <td>0.397773</td>\n    </tr>\n    <tr>\n      <th>LF37(0.2515,0.1160)</th>\n      <td>37</td>\n      <td>[0, 1]</td>\n      <td>0.4099</td>\n      <td>0.4099</td>\n      <td>0.4050</td>\n      <td>1588</td>\n      <td>437</td>\n      <td>0.387412</td>\n    </tr>\n    <tr>\n      <th>LF38(0.9221,0.3410)</th>\n      <td>38</td>\n      <td>[0, 1]</td>\n      <td>0.4031</td>\n      <td>0.4031</td>\n      <td>0.3971</td>\n      <td>1637</td>\n      <td>375</td>\n      <td>0.406103</td>\n    </tr>\n    <tr>\n      <th>LF39(0.4061,0.9594)</th>\n      <td>39</td>\n      <td>[0, 1]</td>\n      <td>0.3972</td>\n      <td>0.3972</td>\n      <td>0.3909</td>\n      <td>1611</td>\n      <td>390</td>\n      <td>0.405589</td>\n    </tr>\n    <tr>\n      <th>LF40(0.4419,0.2716)</th>\n      <td>40</td>\n      <td>[0, 1]</td>\n      <td>0.3889</td>\n      <td>0.3889</td>\n      <td>0.3842</td>\n      <td>1579</td>\n      <td>359</td>\n      <td>0.406017</td>\n    </tr>\n    <tr>\n      <th>LF41(0.1959,0.3511)</th>\n      <td>41</td>\n      <td>[0, 1]</td>\n      <td>0.3922</td>\n      <td>0.3922</td>\n      <td>0.3865</td>\n      <td>1572</td>\n      <td>396</td>\n      <td>0.400816</td>\n    </tr>\n    <tr>\n      <th>LF42(0.7026,0.2567)</th>\n      <td>42</td>\n      <td>[0, 1]</td>\n      <td>0.4010</td>\n      <td>0.4010</td>\n      <td>0.3954</td>\n      <td>1614</td>\n      <td>398</td>\n      <td>0.402494</td>\n    </tr>\n    <tr>\n      <th>LF43(0.2772,0.2955)</th>\n      <td>43</td>\n      <td>[0, 1]</td>\n      <td>0.4009</td>\n      <td>0.4009</td>\n      <td>0.3946</td>\n      <td>1581</td>\n      <td>401</td>\n      <td>0.394363</td>\n    </tr>\n    <tr>\n      <th>LF44(0.4463,0.6711)</th>\n      <td>44</td>\n      <td>[0, 1]</td>\n      <td>0.4052</td>\n      <td>0.4052</td>\n      <td>0.3995</td>\n      <td>1652</td>\n      <td>381</td>\n      <td>0.407700</td>\n    </tr>\n    <tr>\n      <th>LF45(0.2387,0.1354)</th>\n      <td>45</td>\n      <td>[0, 1]</td>\n      <td>0.3953</td>\n      <td>0.3953</td>\n      <td>0.3892</td>\n      <td>1572</td>\n      <td>413</td>\n      <td>0.397673</td>\n    </tr>\n    <tr>\n      <th>LF46(0.7120,0.9355)</th>\n      <td>46</td>\n      <td>[0, 1]</td>\n      <td>0.3906</td>\n      <td>0.3906</td>\n      <td>0.3846</td>\n      <td>1596</td>\n      <td>382</td>\n      <td>0.408602</td>\n    </tr>\n    <tr>\n      <th>LF47(0.2454,0.7507)</th>\n      <td>47</td>\n      <td>[0, 1]</td>\n      <td>0.3957</td>\n      <td>0.3957</td>\n      <td>0.3900</td>\n      <td>1613</td>\n      <td>400</td>\n      <td>0.407632</td>\n    </tr>\n    <tr>\n      <th>LF48(0.6971,0.6518)</th>\n      <td>48</td>\n      <td>[0, 1]</td>\n      <td>0.3942</td>\n      <td>0.3942</td>\n      <td>0.3894</td>\n      <td>1582</td>\n      <td>394</td>\n      <td>0.401319</td>\n    </tr>\n    <tr>\n      <th>LF49(0.8011,0.6012)</th>\n      <td>49</td>\n      <td>[0, 1]</td>\n      <td>0.3921</td>\n      <td>0.3921</td>\n      <td>0.3861</td>\n      <td>1604</td>\n      <td>371</td>\n      <td>0.409079</td>\n    </tr>\n  </tbody>\n</table>\n</div>"
     },
     "metadata": {},
     "execution_count": 46
    }
   ],
   "source": [
    "LFAnalysis(L_data, lfs=lfs).lf_summary(Y_data)"
   ]
  },
  {
   "cell_type": "markdown",
   "metadata": {},
   "source": [
    "## Experiments"
   ]
  },
  {
   "cell_type": "code",
   "execution_count": 47,
   "metadata": {},
   "outputs": [
    {
     "output_type": "execute_result",
     "data": {
      "text/plain": [
       "{'accuracy': 0.9980087614496217, 'f1': 0.9990033884791709, 'abstain rate': 0.0}"
      ]
     },
     "metadata": {},
     "execution_count": 47
    }
   ],
   "source": [
    "from snorkel.labeling.model.label_model import LabelModel\n",
    "from snorkel.analysis import Scorer\n",
    "\n",
    "label_model = LabelModel(cardinality=2)\n",
    "label_model.fit(L_data)\n",
    "\n",
    "Y_pred = label_model.predict(L_data)\n",
    "\n",
    "scorer = Scorer(metrics=[\"accuracy\",\"f1\"], custom_metric_funcs={\"abstain rate\": \n",
    "lambda golds, preds, probs: np.sum(preds == ABSTAIN) / len(preds)})\n",
    "scorer.score(Y_data, preds=Y_pred)"
   ]
  },
  {
   "cell_type": "code",
   "execution_count": 61,
   "metadata": {},
   "outputs": [
    {
     "output_type": "stream",
     "name": "stdout",
     "text": [
      "0.99078 0.0019255129186790745\n"
     ]
    }
   ],
   "source": [
    "x = [0.9858, 0.9910, 0.9912, 0.9910, 0.9908, 0.9928, 0.9918, 0.9930, 0.9894, 0.9910]\n",
    "print(np.mean(x), np.std(x))"
   ]
  },
  {
   "cell_type": "code",
   "execution_count": null,
   "metadata": {},
   "outputs": [],
   "source": []
  }
 ],
 "metadata": {
  "kernelspec": {
   "display_name": "canned_ex_env",
   "language": "python",
   "name": "canned_ex_env"
  },
  "language_info": {
   "codemirror_mode": {
    "name": "ipython",
    "version": 3
   },
   "file_extension": ".py",
   "mimetype": "text/x-python",
   "name": "python",
   "nbconvert_exporter": "python",
   "pygments_lexer": "ipython3",
   "version": "3.6.9-final"
  }
 },
 "nbformat": 4,
 "nbformat_minor": 4
}