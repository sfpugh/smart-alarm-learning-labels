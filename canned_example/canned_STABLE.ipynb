{
 "cells": [
  {
   "cell_type": "markdown",
   "metadata": {},
   "source": [
    "# Canned Example: sign(x)\n",
    "This notebook defines our canned example which defines several labeling functions that model the sign function. (See Overleaf document for full definition of this example.)"
   ]
  },
  {
   "cell_type": "code",
   "execution_count": 1,
   "metadata": {},
   "outputs": [],
   "source": [
    "import numpy as np\n",
    "from snorkel.labeling import labeling_function, LFApplier, LFAnalysis\n",
    "from snorkel.labeling.model.label_model import LabelModel"
   ]
  },
  {
   "cell_type": "code",
   "execution_count": 2,
   "metadata": {},
   "outputs": [],
   "source": [
    "# Parameters for the analysis\n",
    "N_LFS = 10\n",
    "N_DPS = 10000\n",
    "\n",
    "SEED_RNG = False\n",
    "SEED = 12345"
   ]
  },
  {
   "cell_type": "code",
   "execution_count": 3,
   "metadata": {},
   "outputs": [],
   "source": [
    "# Defining labels for sake of clarity\n",
    "ABSTAIN = 0\n",
    "NEGATIVE = -1\n",
    "POSITIVE = 1"
   ]
  },
  {
   "cell_type": "code",
   "execution_count": 4,
   "metadata": {},
   "outputs": [],
   "source": [
    "# Seed numpy.random for reproducible results\n",
    "if SEED_RNG:\n",
    "    np.random.seed(SEED)"
   ]
  },
  {
   "cell_type": "markdown",
   "metadata": {},
   "source": [
    "## Define the Goal Model"
   ]
  },
  {
   "cell_type": "code",
   "execution_count": 5,
   "metadata": {},
   "outputs": [],
   "source": [
    "def f_star(x):\n",
    "    return 1 if x == 0 else np.sign(x)"
   ]
  },
  {
   "cell_type": "markdown",
   "metadata": {},
   "source": [
    "## Define the Dataset"
   ]
  },
  {
   "cell_type": "code",
   "execution_count": 6,
   "metadata": {},
   "outputs": [],
   "source": [
    "X_data = np.random.uniform(-1, 1, N_DPS)\n",
    "\n",
    "f_star_vectorized = np.vectorize(f_star)\n",
    "Y_data = f_star_vectorized(X_data)"
   ]
  },
  {
   "cell_type": "markdown",
   "metadata": {},
   "source": [
    "## Define Labeling Functions"
   ]
  },
  {
   "cell_type": "code",
   "execution_count": 7,
   "metadata": {},
   "outputs": [],
   "source": [
    "def f(p_f, p_A, x):    \n",
    "    # Draw from Bernoulli distribution\n",
    "    z_f = np.random.binomial(1, p_f, 1)[0]\n",
    "    z_A = np.random.binomial(1, p_A, 1)[0]\n",
    "    \n",
    "    return int( (f_star(x) * z_f - f_star(x) * (1 - z_f)) * (1 - z_A) )"
   ]
  },
  {
   "cell_type": "code",
   "execution_count": 8,
   "metadata": {},
   "outputs": [],
   "source": [
    "lfs = []\n",
    "\n",
    "# Generate several labeling functions for different values of p_f and p_A\n",
    "for i in range(N_LFS):\n",
    "    p_f = np.random.rand(1)[0]\n",
    "    p_A = np.random.rand(1)[0]\n",
    "    \n",
    "    @labeling_function(name=\"lf{}({:.4f},{:.4f})\".format(i, p_f, p_A))\n",
    "    def lf(x):\n",
    "        return f(p_f, p_A, x)\n",
    "    \n",
    "    lfs.append(lf)"
   ]
  },
  {
   "cell_type": "markdown",
   "metadata": {},
   "source": [
    "## Apply Labeling Functions to the Data"
   ]
  },
  {
   "cell_type": "code",
   "execution_count": 9,
   "metadata": {},
   "outputs": [
    {
     "name": "stderr",
     "output_type": "stream",
     "text": [
      "10000it [00:01, 5763.10it/s]\n"
     ]
    }
   ],
   "source": [
    "applier = LFApplier(lfs)\n",
    "L_data = applier.apply(X_data, progress_bar=True)"
   ]
  },
  {
   "cell_type": "code",
   "execution_count": 10,
   "metadata": {},
   "outputs": [
    {
     "data": {
      "text/html": [
       "<div>\n",
       "<style scoped>\n",
       "    .dataframe tbody tr th:only-of-type {\n",
       "        vertical-align: middle;\n",
       "    }\n",
       "\n",
       "    .dataframe tbody tr th {\n",
       "        vertical-align: top;\n",
       "    }\n",
       "\n",
       "    .dataframe thead th {\n",
       "        text-align: right;\n",
       "    }\n",
       "</style>\n",
       "<table border=\"1\" class=\"dataframe\">\n",
       "  <thead>\n",
       "    <tr style=\"text-align: right;\">\n",
       "      <th></th>\n",
       "      <th>j</th>\n",
       "      <th>Polarity</th>\n",
       "      <th>Coverage</th>\n",
       "      <th>Overlaps</th>\n",
       "      <th>Conflicts</th>\n",
       "      <th>Correct</th>\n",
       "      <th>Incorrect</th>\n",
       "      <th>Emp. Acc.</th>\n",
       "    </tr>\n",
       "  </thead>\n",
       "  <tbody>\n",
       "    <tr>\n",
       "      <th>lf0(0.8646,0.1559)</th>\n",
       "      <td>0</td>\n",
       "      <td>[0, 1]</td>\n",
       "      <td>0.5372</td>\n",
       "      <td>0.5257</td>\n",
       "      <td>0.2868</td>\n",
       "      <td>3843</td>\n",
       "      <td>344</td>\n",
       "      <td>0.715376</td>\n",
       "    </tr>\n",
       "    <tr>\n",
       "      <th>lf1(0.4703,0.9647)</th>\n",
       "      <td>1</td>\n",
       "      <td>[0, 1]</td>\n",
       "      <td>0.5342</td>\n",
       "      <td>0.5228</td>\n",
       "      <td>0.2822</td>\n",
       "      <td>3866</td>\n",
       "      <td>352</td>\n",
       "      <td>0.723699</td>\n",
       "    </tr>\n",
       "    <tr>\n",
       "      <th>lf2(0.0026,0.4366)</th>\n",
       "      <td>2</td>\n",
       "      <td>[0, 1]</td>\n",
       "      <td>0.5351</td>\n",
       "      <td>0.5219</td>\n",
       "      <td>0.2854</td>\n",
       "      <td>3862</td>\n",
       "      <td>359</td>\n",
       "      <td>0.721734</td>\n",
       "    </tr>\n",
       "    <tr>\n",
       "      <th>lf3(0.2596,0.0961)</th>\n",
       "      <td>3</td>\n",
       "      <td>[0, 1]</td>\n",
       "      <td>0.5402</td>\n",
       "      <td>0.5297</td>\n",
       "      <td>0.2897</td>\n",
       "      <td>3876</td>\n",
       "      <td>334</td>\n",
       "      <td>0.717512</td>\n",
       "    </tr>\n",
       "    <tr>\n",
       "      <th>lf4(0.7671,0.2620)</th>\n",
       "      <td>4</td>\n",
       "      <td>[0, 1]</td>\n",
       "      <td>0.5349</td>\n",
       "      <td>0.5238</td>\n",
       "      <td>0.2832</td>\n",
       "      <td>3857</td>\n",
       "      <td>353</td>\n",
       "      <td>0.721069</td>\n",
       "    </tr>\n",
       "    <tr>\n",
       "      <th>lf5(0.3639,0.4487)</th>\n",
       "      <td>5</td>\n",
       "      <td>[0, 1]</td>\n",
       "      <td>0.5290</td>\n",
       "      <td>0.5180</td>\n",
       "      <td>0.2802</td>\n",
       "      <td>3825</td>\n",
       "      <td>346</td>\n",
       "      <td>0.723062</td>\n",
       "    </tr>\n",
       "    <tr>\n",
       "      <th>lf6(0.0936,0.6155)</th>\n",
       "      <td>6</td>\n",
       "      <td>[0, 1]</td>\n",
       "      <td>0.5341</td>\n",
       "      <td>0.5217</td>\n",
       "      <td>0.2815</td>\n",
       "      <td>3826</td>\n",
       "      <td>361</td>\n",
       "      <td>0.716345</td>\n",
       "    </tr>\n",
       "    <tr>\n",
       "      <th>lf7(0.9997,0.9435)</th>\n",
       "      <td>7</td>\n",
       "      <td>[0, 1]</td>\n",
       "      <td>0.5344</td>\n",
       "      <td>0.5263</td>\n",
       "      <td>0.2839</td>\n",
       "      <td>3874</td>\n",
       "      <td>347</td>\n",
       "      <td>0.724925</td>\n",
       "    </tr>\n",
       "    <tr>\n",
       "      <th>lf8(0.1725,0.5426)</th>\n",
       "      <td>8</td>\n",
       "      <td>[0, 1]</td>\n",
       "      <td>0.5287</td>\n",
       "      <td>0.5171</td>\n",
       "      <td>0.2810</td>\n",
       "      <td>3816</td>\n",
       "      <td>330</td>\n",
       "      <td>0.721770</td>\n",
       "    </tr>\n",
       "    <tr>\n",
       "      <th>lf9(0.8272,0.0688)</th>\n",
       "      <td>9</td>\n",
       "      <td>[0, 1]</td>\n",
       "      <td>0.5386</td>\n",
       "      <td>0.5269</td>\n",
       "      <td>0.2861</td>\n",
       "      <td>3849</td>\n",
       "      <td>371</td>\n",
       "      <td>0.714631</td>\n",
       "    </tr>\n",
       "  </tbody>\n",
       "</table>\n",
       "</div>"
      ],
      "text/plain": [
       "                    j Polarity  Coverage  Overlaps  Conflicts  Correct  \\\n",
       "lf0(0.8646,0.1559)  0   [0, 1]    0.5372    0.5257     0.2868     3843   \n",
       "lf1(0.4703,0.9647)  1   [0, 1]    0.5342    0.5228     0.2822     3866   \n",
       "lf2(0.0026,0.4366)  2   [0, 1]    0.5351    0.5219     0.2854     3862   \n",
       "lf3(0.2596,0.0961)  3   [0, 1]    0.5402    0.5297     0.2897     3876   \n",
       "lf4(0.7671,0.2620)  4   [0, 1]    0.5349    0.5238     0.2832     3857   \n",
       "lf5(0.3639,0.4487)  5   [0, 1]    0.5290    0.5180     0.2802     3825   \n",
       "lf6(0.0936,0.6155)  6   [0, 1]    0.5341    0.5217     0.2815     3826   \n",
       "lf7(0.9997,0.9435)  7   [0, 1]    0.5344    0.5263     0.2839     3874   \n",
       "lf8(0.1725,0.5426)  8   [0, 1]    0.5287    0.5171     0.2810     3816   \n",
       "lf9(0.8272,0.0688)  9   [0, 1]    0.5386    0.5269     0.2861     3849   \n",
       "\n",
       "                    Incorrect  Emp. Acc.  \n",
       "lf0(0.8646,0.1559)        344   0.715376  \n",
       "lf1(0.4703,0.9647)        352   0.723699  \n",
       "lf2(0.0026,0.4366)        359   0.721734  \n",
       "lf3(0.2596,0.0961)        334   0.717512  \n",
       "lf4(0.7671,0.2620)        353   0.721069  \n",
       "lf5(0.3639,0.4487)        346   0.723062  \n",
       "lf6(0.0936,0.6155)        361   0.716345  \n",
       "lf7(0.9997,0.9435)        347   0.724925  \n",
       "lf8(0.1725,0.5426)        330   0.721770  \n",
       "lf9(0.8272,0.0688)        371   0.714631  "
      ]
     },
     "execution_count": 10,
     "metadata": {},
     "output_type": "execute_result"
    }
   ],
   "source": [
    "LFAnalysis(L_data, lfs=lfs).lf_summary(Y_data)"
   ]
  },
  {
   "cell_type": "markdown",
   "metadata": {},
   "source": [
    "## Experiments"
   ]
  },
  {
   "cell_type": "code",
   "execution_count": null,
   "metadata": {},
   "outputs": [],
   "source": []
  }
 ],
 "metadata": {
  "kernelspec": {
   "display_name": "canned_ex_env",
   "language": "python",
   "name": "canned_ex_env"
  },
  "language_info": {
   "codemirror_mode": {
    "name": "ipython",
    "version": 3
   },
   "file_extension": ".py",
   "mimetype": "text/x-python",
   "name": "python",
   "nbconvert_exporter": "python",
   "pygments_lexer": "ipython3",
   "version": "3.6.9"
  }
 },
 "nbformat": 4,
 "nbformat_minor": 4
}
